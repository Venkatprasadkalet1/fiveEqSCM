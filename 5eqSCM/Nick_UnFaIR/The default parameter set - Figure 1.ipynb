{
 "cells": [
  {
   "cell_type": "code",
   "execution_count": 1,
   "metadata": {},
   "outputs": [],
   "source": [
    "## Get dependencies ##\n",
    "\n",
    "import numpy as np\n",
    "import string\n",
    "import math\n",
    "import sys\n",
    "import pandas as pd\n",
    "import matplotlib.pyplot as plt\n",
    "import matplotlib\n",
    "import seaborn as sn\n",
    "from UnFaIR import *\n",
    "import scipy as sp\n",
    "import pickle\n",
    "import time"
   ]
  },
  {
   "cell_type": "code",
   "execution_count": 3,
   "metadata": {},
   "outputs": [],
   "source": [
    "## Plot Meinshausen concentrations (he's already done the work...) vs. plumes of concentrations\n",
    "\n",
    "## Plot all the emissions sources and show which parts we've taken (highlight in green/ wider line etc.)"
   ]
  },
  {
   "cell_type": "code",
   "execution_count": 5,
   "metadata": {},
   "outputs": [],
   "source": [
    "## Emissions data\n",
    "\n",
    "N2O_EDGAR_HYDE = pd.read_csv('./Conc_fit_data/edgar_hyde1.4-glob_n2o.csv',index_col=0,names=['Year','N2O'],skiprows=1)\n",
    "N2O_EDGAR_v432 = pd.read_csv('./Conc_fit_data/v432_N2O_1970_2012.csv',index_col=0,names=['Year','N2O'],skiprows=1)\n",
    "\n",
    "CH4_CEDS = pd.read_csv('./Conc_fit_data/CEDS_CH4_global_emissions_1850_2014.csv',index_col=0,names=['Year','CH4'],skiprows=0).drop_duplicates()\n",
    "CH4_EDGAR_HYDE = pd.read_csv('./Conc_fit_data/edgar_hyde1.4-glob_CH4.csv',index_col=0)\n",
    "CH4_EDGAR_v432 = pd.read_csv('./Conc_fit_data/v432_CH4_1970_2012.csv',index_col=0)\n",
    "\n",
    "CO2_CEDS = pd.read_csv('./Conc_fit_data/CEDS_CO2_global_emissions_1750_2014.csv',index_col=0,names=['Year','CO2'])*(12/44)\n",
    "GCP = pd.read_csv('./Conc_fit_data/Global_Carbon_Budget_2018v1.0.csv',index_col=0)\n",
    "CO2_GCP = GCP.fillna(0).sum(axis=1)\n",
    "CO2_GCP = pd.DataFrame(data= CO2_GCP.values, index = CO2_GCP.index,columns=['CO2'])\n",
    "CO2_EDGAR_HYDE = pd.read_csv('./Conc_fit_data/edgar_hyde1.4-glob_CO2.csv',index_col=0)\n",
    "CO2_EDGAR_v432_Fossil = pd.read_csv('./Conc_fit_data/v432_CO2_excl_short-cycle_org_C_1970_2012.csv',index_col=0)\n",
    "CO2_EDGAR_v432_Bio = pd.read_csv('./Conc_fit_data/v432_CO2_org_short-cycle_C_1970_2012.csv',index_col=0)\n",
    "CO2_EDGAR_v432 = pd.DataFrame(data=CO2_EDGAR_v432_Fossil.values+CO2_EDGAR_v432_Bio.values,columns=['CO2'],index=CO2_EDGAR_v432_Bio.index)\n",
    "\n",
    "RCP85_E = pd.read_csv('./RCP_data/RCP85_EMISSIONS.csv',skiprows=36,index_col=0)"
   ]
  },
  {
   "cell_type": "code",
   "execution_count": null,
   "metadata": {},
   "outputs": [],
   "source": [
    "    "
   ]
  }
 ],
 "metadata": {
  "kernelspec": {
   "display_name": "Python 3",
   "language": "python",
   "name": "python3"
  },
  "language_info": {
   "codemirror_mode": {
    "name": "ipython",
    "version": 3
   },
   "file_extension": ".py",
   "mimetype": "text/x-python",
   "name": "python",
   "nbconvert_exporter": "python",
   "pygments_lexer": "ipython3",
   "version": "3.6.7"
  }
 },
 "nbformat": 4,
 "nbformat_minor": 2
}
