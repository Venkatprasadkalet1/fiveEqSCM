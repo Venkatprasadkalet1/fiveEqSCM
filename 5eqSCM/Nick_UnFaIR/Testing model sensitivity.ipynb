{
 "cells": [
  {
   "cell_type": "code",
   "execution_count": 12,
   "metadata": {},
   "outputs": [],
   "source": [
    "## Get dependencies ##\n",
    "\n",
    "import numpy as np\n",
    "import string\n",
    "import math\n",
    "import sys\n",
    "import pandas as pd\n",
    "import matplotlib.pyplot as plt\n",
    "import matplotlib\n",
    "import seaborn as sn\n",
    "from UnFaIR import *\n",
    "import scipy as sp\n",
    "import pickle"
   ]
  },
  {
   "cell_type": "code",
   "execution_count": 13,
   "metadata": {},
   "outputs": [],
   "source": [
    "s='85'\n",
    "\n",
    "RCP_forc = pd.read_csv('./Conc_fit_data/RCP'+s+'_MIDYEAR_RADFORCING.csv',skiprows=58,index_col=0)\n",
    "\n",
    "otherforc = RCP_forc.TOTAL_INCLVOLCANIC_RF.values - RCP_forc.CO2CH4N2O_RF.values\n",
    "\n",
    "RCP_E = pd.DataFrame(data = np.array([pd.read_csv('./RCP_data/RCP'+s+'_EMISSIONS.csv',skiprows=36,index_col=0)[['OtherCO2','FossilCO2']].sum(axis=1).values,pd.read_csv('./RCP_data/RCP'+s+'_EMISSIONS.csv',skiprows=36,index_col=0)['CH4'].values,pd.read_csv('./RCP_data/RCP'+s+'_EMISSIONS.csv',skiprows=36,index_col=0)['N2O'].values]).T,columns=['CO2','CH4','N2O'],index = pd.read_csv('./RCP_data/RCP'+s+'_EMISSIONS.csv',skiprows=36,index_col=0).index)\n",
    "\n",
    "Best_estimate_ems = pd.read_csv('Best_estimate_emissions_for_UnFaIR.csv',index_col=0)"
   ]
  },
  {
   "cell_type": "code",
   "execution_count": 14,
   "metadata": {},
   "outputs": [],
   "source": [
    "BE_fut_rcp = Best_estimate_ems.append(RCP_E.loc[2013:]+ Best_estimate_ems.loc[2012] - RCP_E.loc[2012])\n",
    "\n",
    "base = UnFaIR(BE_fut_rcp,otherforc)"
   ]
  },
  {
   "cell_type": "code",
   "execution_count": 15,
   "metadata": {},
   "outputs": [],
   "source": [
    "## param sensitivity test\n",
    "\n",
    "sens_df = pd.DataFrame(index=BE_fut_rcp.index)\n",
    "life_df = pd.DataFrame(index=BE_fut_rcp.index)\n",
    "\n",
    "for param in ['r0','rT','rA']:\n",
    "    \n",
    "    base_params = default_gas_params()\n",
    "    base_params.loc[param,'CH4'] = base_params.loc[param,'CH4']*1.1\n",
    "    model_run = UnFaIR(BE_fut_rcp,otherforc,gas_params=base_params)\n",
    "    sens_df['CH4'+param] = model_run['C']['CH4'] / base['C']['CH4']\n",
    "    life_df['CH4'+param] = model_run['alpha']['CH4'] / base['alpha']['CH4']\n",
    "    \n",
    "for param in ['r0','rA']:\n",
    "    \n",
    "    base_params = default_gas_params()\n",
    "    base_params.loc[param,'N2O'] = base_params.loc[param,'N2O']*1.1\n",
    "    model_run = UnFaIR(BE_fut_rcp,otherforc,gas_params=base_params)\n",
    "    sens_df['N2O'+param] = model_run['C']['N2O'] / base['C']['N2O']\n",
    "    life_df['N2O'+param] = model_run['alpha']['N2O'] / base['alpha']['N2O']\n",
    "    \n",
    "for param in ['r0','rC','rT']:\n",
    "    \n",
    "    base_params = default_gas_params()\n",
    "    base_params.loc[param,'CO2'] = base_params.loc[param,'CO2']*1.1\n",
    "    model_run = UnFaIR(BE_fut_rcp,otherforc,gas_params=base_params)\n",
    "    sens_df['CO2'+param] = model_run['C']['CO2'] / base['C']['CO2']\n",
    "    life_df['CO2'+param] = model_run['alpha']['CO2'] / base['alpha']['CO2']"
   ]
  },
  {
   "cell_type": "code",
   "execution_count": 16,
   "metadata": {},
   "outputs": [
    {
     "data": {
      "text/html": [
       "<div>\n",
       "<style scoped>\n",
       "    .dataframe tbody tr th:only-of-type {\n",
       "        vertical-align: middle;\n",
       "    }\n",
       "\n",
       "    .dataframe tbody tr th {\n",
       "        vertical-align: top;\n",
       "    }\n",
       "\n",
       "    .dataframe thead th {\n",
       "        text-align: right;\n",
       "    }\n",
       "</style>\n",
       "<table border=\"1\" class=\"dataframe\">\n",
       "  <thead>\n",
       "    <tr style=\"text-align: right;\">\n",
       "      <th></th>\n",
       "      <th>CH4r0</th>\n",
       "      <th>CH4rT</th>\n",
       "      <th>CH4rA</th>\n",
       "      <th>N2Or0</th>\n",
       "      <th>N2OrA</th>\n",
       "      <th>CO2r0</th>\n",
       "      <th>CO2rC</th>\n",
       "      <th>CO2rT</th>\n",
       "    </tr>\n",
       "  </thead>\n",
       "  <tbody>\n",
       "    <tr>\n",
       "      <th>2010</th>\n",
       "      <td>8.35</td>\n",
       "      <td>-0.19</td>\n",
       "      <td>0.68</td>\n",
       "      <td>1.15</td>\n",
       "      <td>-0.00</td>\n",
       "      <td>1.65</td>\n",
       "      <td>0.25</td>\n",
       "      <td>0.16</td>\n",
       "    </tr>\n",
       "    <tr>\n",
       "      <th>2100</th>\n",
       "      <td>13.56</td>\n",
       "      <td>-1.29</td>\n",
       "      <td>3.34</td>\n",
       "      <td>4.12</td>\n",
       "      <td>-0.02</td>\n",
       "      <td>2.91</td>\n",
       "      <td>1.41</td>\n",
       "      <td>1.20</td>\n",
       "    </tr>\n",
       "    <tr>\n",
       "      <th>2500</th>\n",
       "      <td>16.28</td>\n",
       "      <td>-3.59</td>\n",
       "      <td>3.83</td>\n",
       "      <td>11.57</td>\n",
       "      <td>-0.11</td>\n",
       "      <td>1.66</td>\n",
       "      <td>1.27</td>\n",
       "      <td>1.16</td>\n",
       "    </tr>\n",
       "  </tbody>\n",
       "</table>\n",
       "</div>"
      ],
      "text/plain": [
       "      CH4r0  CH4rT  CH4rA  N2Or0  N2OrA  CO2r0  CO2rC  CO2rT\n",
       "2010   8.35  -0.19   0.68   1.15  -0.00   1.65   0.25   0.16\n",
       "2100  13.56  -1.29   3.34   4.12  -0.02   2.91   1.41   1.20\n",
       "2500  16.28  -3.59   3.83  11.57  -0.11   1.66   1.27   1.16"
      ]
     },
     "execution_count": 16,
     "metadata": {},
     "output_type": "execute_result"
    }
   ],
   "source": [
    "round((sens_df.loc[[2010,2100,2500]]-1)*100,2)"
   ]
  },
  {
   "cell_type": "code",
   "execution_count": 17,
   "metadata": {},
   "outputs": [
    {
     "name": "stderr",
     "output_type": "stream",
     "text": [
      "/home/nleach/Documents/UnFaIR/5eqSCM/Nick_UnFaIR/UnFaIR.py:81: RuntimeWarning: divide by zero encountered in true_divide\n",
      "  R = E[:,np.newaxis] * emis2conc[:,np.newaxis] * a * alpha * tau * ( 1. - np.exp( -1./(alpha*tau) ) ) + R * np.exp( -1./(alpha * tau) )\n"
     ]
    }
   ],
   "source": [
    "# effect of removing the parameter\n",
    "\n",
    "sens_df_0 = pd.DataFrame(index=BE_fut_rcp.index)\n",
    "life_df_0 = pd.DataFrame(index=BE_fut_rcp.index)\n",
    "\n",
    "for param in ['r0','rT','rA']:\n",
    "    \n",
    "    base_params = default_gas_params()\n",
    "    base_params.loc[param,'CH4'] = base_params.loc[param,'CH4']*0\n",
    "    model_run = UnFaIR(BE_fut_rcp,otherforc,gas_params=base_params)\n",
    "    sens_df_0['CH4'+param] = model_run['C']['CH4'] / base['C']['CH4']\n",
    "    life_df_0['CH4'+param] = model_run['alpha']['CH4'] / base['alpha']['CH4']\n",
    "    \n",
    "for param in ['r0','rA']:\n",
    "    \n",
    "    base_params = default_gas_params()\n",
    "    base_params.loc[param,'N2O'] = base_params.loc[param,'N2O']*0\n",
    "    model_run = UnFaIR(BE_fut_rcp,otherforc,gas_params=base_params)\n",
    "    sens_df_0['N2O'+param] = model_run['C']['N2O'] / base['C']['N2O']\n",
    "    life_df_0['N2O'+param] = model_run['alpha']['N2O'] / base['alpha']['N2O']\n",
    "    \n",
    "for param in ['r0','rC','rT']:\n",
    "    \n",
    "    base_params = default_gas_params()\n",
    "    base_params.loc[param,'CO2'] = base_params.loc[param,'CO2']*0\n",
    "    model_run = UnFaIR(BE_fut_rcp,otherforc,gas_params=base_params)\n",
    "    sens_df_0['CO2'+param] = model_run['C']['CO2'] / base['C']['CO2']\n",
    "    life_df_0['CO2'+param] = model_run['alpha']['CO2'] / base['alpha']['CO2']\n"
   ]
  },
  {
   "cell_type": "code",
   "execution_count": 18,
   "metadata": {},
   "outputs": [
    {
     "name": "stdout",
     "output_type": "stream",
     "text": [
      "CH4 lifetime change over 2010-2100 period (%)\n",
      "12.5\n",
      "\n",
      "\n",
      "N2O lifetime change over 2010-2100 period (%)\n",
      "-1.3\n"
     ]
    }
   ],
   "source": [
    "## Change in CH4 lifetime over 2010-2100 period\n",
    "\n",
    "print('CH4 lifetime change over 2010-2100 period (%)')\n",
    "print(round((base['alpha']['CH4'].loc[2100] / (base['alpha']['CH4']).loc[2010]-1)*100,1))\n",
    "print('\\n')\n",
    "print('N2O lifetime change over 2010-2100 period (%)')\n",
    "print(round((base['alpha']['N2O'].loc[2100] / (base['alpha']['N2O']).loc[2010]-1)*100,1))"
   ]
  },
  {
   "cell_type": "code",
   "execution_count": 19,
   "metadata": {},
   "outputs": [
    {
     "data": {
      "text/plain": [
       "<matplotlib.axes._subplots.AxesSubplot at 0x7ff7e1a28fd0>"
      ]
     },
     "execution_count": 19,
     "metadata": {},
     "output_type": "execute_result"
    },
    {
     "data": {
      "image/png": "[encoded data removed]",
      "text/plain": [
       "<Figure size 432x288 with 1 Axes>"
      ]
     },
     "metadata": {
      "needs_background": "light"
     },
     "output_type": "display_data"
    }
   ],
   "source": [
    "(base['alpha']['CH4']*default_gas_params().loc['tau1','CH4']).loc[2000:2100].plot()"
   ]
  },
  {
   "cell_type": "code",
   "execution_count": null,
   "metadata": {},
   "outputs": [],
   "source": []
  }
 ],
 "metadata": {
  "kernelspec": {
   "display_name": "Python 3",
   "language": "python",
   "name": "python3"
  },
  "language_info": {
   "codemirror_mode": {
    "name": "ipython",
    "version": 3
   },
   "file_extension": ".py",
   "mimetype": "text/x-python",
   "name": "python",
   "nbconvert_exporter": "python",
   "pygments_lexer": "ipython3",
   "version": "3.6.7"
  }
 },
 "nbformat": 4,
 "nbformat_minor": 2
}
