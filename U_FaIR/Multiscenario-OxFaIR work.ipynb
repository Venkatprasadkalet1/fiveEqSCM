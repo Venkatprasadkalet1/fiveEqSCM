{
 "cells": [
  {
   "cell_type": "code",
   "execution_count": 6,
   "metadata": {
    "collapsed": true
   },
   "outputs": [],
   "source": [
    "# imports\n",
    "\n",
    "import numpy as np\n",
    "# import pandas as pd\n",
    "# import scipy as sp\n",
    "# import csv\n",
    "# from scipy.interpolate import interp1d\n",
    "# import pickle\n",
    "# from scipy.ndimage.filters import gaussian_filter1d as smooth\n",
    "import string\n",
    "# import statsmodels.api as sm\n",
    "# from scipy.stats import linregress\n",
    "import math\n",
    "\n",
    "from matplotlib import pyplot as plt"
   ]
  },
  {
   "cell_type": "code",
   "execution_count": 11,
   "metadata": {
    "collapsed": true
   },
   "outputs": [],
   "source": [
    "def check_format(emissions, multigas, multiscen, a, tau, r, PI_C, emis2conc):\n",
    "    \n",
    "    # check if emissions is 3D, if not make it 3D, complying with shape requirements\n",
    "    if np.array(emissions.shape).size == 2:\n",
    "        if multigas == True and multiscen == False:\n",
    "            print('Emissions input is 2D (n_gases, n_timesteps)')\n",
    "            emissions = emissions[:,np.newaxis,:]\n",
    "        elif multigas == False and multiscen == True:\n",
    "            print('Emissions input is 2D (n_scenarios, n_timesteps)')\n",
    "            emissions = emissions[np.newaxis,...]\n",
    "        elif (multigas == False and multiscen == False) or (multigas == True and multiscen == True):\n",
    "            print('One flag (multigas/multiscen) must be switched True, other False')\n",
    "            return 1\n",
    "    elif np.array(emissions.shape).size == 1:\n",
    "        print('Emissions input is 1D (n_timesteps)')\n",
    "        emissions = emissions[np.newaxis,:]\n",
    "        emissions = emissions[np.newaxis,...]\n",
    "    elif np.array(emissions.shape).size == 3 and ((multigas==False or multiscen==False) or (multigas==False and multiscen==False)):\n",
    "        print('Both flags must be true, since emissions array is 3D')\n",
    "        return 1\n",
    "    elif np.array(emissions.shape).size != 3:\n",
    "        print('Emissions input is not in correct format (needs to be 1D/2D/3D with correct flags)')\n",
    "        return 1\n",
    "    \n",
    "    # check shape of a, r, tau and PI_C parameter arrays are the same size as the number of gases specified\n",
    "    if (multigas == True) and ((emissions.shape[0] != a.shape[0]) or a.ndim != 2):\n",
    "        print('multigas = True requires a to have dimensions [num_gases, num_pools], where num_pools = 4')\n",
    "        print('Currently a has shape: ', a.shape)\n",
    "        return 2\n",
    "    elif (multigas == True) and ((emissions.shape[0] != r.shape[0]) or r.ndim != 2):\n",
    "        print('multigas = True requires r to have dimensions [num_gases, num_pools], where num_pools = 4')\n",
    "        print('Currently r has shape: ', r.shape)\n",
    "        return 2\n",
    "    elif (multigas == True) and ((emissions.shape[0] != tau.shape[0]) or tau.ndim != 2):\n",
    "        print('multigas = True requires tau to have dimensions [num_gases, num_pools], where num_pools = 4')\n",
    "        print('Currently tau has shape: ', tau.shape)\n",
    "        return 2\n",
    "    elif (multigas == True) and ((emissions.shape[0] != PI_C.shape[0]) or PI_C.ndim != 1):\n",
    "        print('multigas = True requires PI_C to have dimensions [num_gases]')\n",
    "        print('Currently PI_C has shape: ', PI_C.shape)\n",
    "        return 2\n",
    "    elif (multigas == True) and ((emissions.shape[0] != emis2conc.shape[0]) or emis2conc.ndim != 1):\n",
    "        print('multigas = True requires emis2conc to have dimensions [num_gases]')\n",
    "        print('Currently emis2conc has shape: ', emis2conc.shape)\n",
    "        return 2\n",
    "    \n",
    "    return emissions\n",
    "\n",
    "def g_1(a,tau,h):\n",
    "    \n",
    "    g1 = np.sum( a*tau*(1. - (1.+h/tau)*np.exp(-h/tau)), axis=1)\n",
    "    \n",
    "    return g1\n",
    "\n",
    "def g_0(a,tau,h):\n",
    "    \n",
    "    g0 = (np.sinh( np.sum( a*tau*(1. - np.exp(-h/tau)), axis=1) / g_1(a,tau,h)) )**(-1.)\n",
    "    \n",
    "    return g0\n",
    "\n",
    "def alpha_val(G,G_A,T,tau,a,r,pre_ind_C,h=100,iirf100_max=97.0):\n",
    "    \n",
    "    iirf100_val = r[...,np.newaxis,0] + r[...,np.newaxis,1]*(G-G_A) + r[...,np.newaxis,2]*T + r[...,np.newaxis,3]*G_A\n",
    "    \n",
    "    # if iirf100 value larger than max value, set to max value \n",
    "    iirf100_val = (iirf100_val>iirf100_max)*iirf100_max + iirf100_val*(iirf100_val<iirf100_max)\n",
    "    \n",
    "    alpha_val = g_0(a,tau,h)[...,np.newaxis] * np.sinh(iirf100_val / g_1(a,tau,h)[...,np.newaxis])\n",
    "    \n",
    "    return alpha_val\n",
    "\n",
    "def step_conc(R,alpha,E,a,tau,pre_ind_C,emis2conc):\n",
    "    \n",
    "    R = E[...,np.newaxis] * emis2conc[:,np.newaxis,np.newaxis]*a[:,np.newaxis,:]*alpha[...,np.newaxis]*tau[:,np.newaxis,:] * (1. - np.exp(-1./(alpha[...,np.newaxis]*tau[:,np.newaxis,:]))) + R*np.exp(-1./(alpha[...,np.newaxis]*tau[:,np.newaxis,:]))\n",
    "    \n",
    "    C = pre_ind_C[:,np.newaxis] + np.sum(R,axis=2)\n",
    "    \n",
    "    G_A = (C - pre_ind_C[:,np.newaxis]) / emis2conc[:,np.newaxis]\n",
    "    \n",
    "    return C,R,G_A\n",
    "\n",
    "def step_forc(C,pre_ind_C,F_ext,f):\n",
    "    \n",
    "    F = np.sum(f[...,np.newaxis,0]*np.log(C/pre_ind_C[:,np.newaxis]) + f[...,np.newaxis,1]*(C - pre_ind_C[:,np.newaxis]) + f[...,np.newaxis,2] * (np.sqrt(C) - np.sqrt(pre_ind_C[:,np.newaxis])), axis=0) + F_ext\n",
    "    \n",
    "    return F\n",
    "\n",
    "def step_temp(S,F,q,d):\n",
    "    \n",
    "    S = q[np.newaxis,:]*F[:,np.newaxis]*(1-np.exp(-1/d[np.newaxis,:])) + S*np.exp(-1/d[np.newaxis,:])\n",
    "    \n",
    "    T = np.sum(S, axis=1)\n",
    "    \n",
    "    return S,T\n",
    "\n",
    "def multiscen_oxfair(emissions,\n",
    "                     emis2conc = 1/(5.148*10**18 / 1e18 * np.array([12.,16.,28.]) / 28.97),\n",
    "                     a = np.array([[0.2173,0.2240,0.2824,0.2763],[1.,0.,0.,0.],[1.,0.,0.,0.]]),\n",
    "                     tau = np.array([[1000000,394.4,36.54,4.304],[9.,394.4,36.54,4.304],[121.,394.4,36.54,4.304]]),\n",
    "                     r = np.array([[32.40,0.019,4.165,0.0],\\\n",
    "                                   [ 9.05942806e+00, -1.03745809e-07, -1.85711888e-01,  1.45117387e-04],\\\n",
    "                                   [ 4.97443512e+01,  5.87120814e-04, -2.02130466e+00,  2.07719812e-02]]),\n",
    "                     PI_C = np.array([278.0,722.0,273.0]),\n",
    "                     iirf100_max = 97.0,\n",
    "                     f = np.array([[3.74/np.log(2.),0.,0.],[0,0.,0.036],[0,0,0.12]]),\n",
    "                     tcr = 1.6,\n",
    "                     ecs = 2.75,\n",
    "                     d = np.array([239.0,4.1]),\n",
    "                     q = np.array([0.33,0.41]),\n",
    "                     F_2x = 3.74,\n",
    "                     multigas=False, \n",
    "                     multiscen=False):\n",
    "    '''\n",
    "    Multiparameterized version of (OxFaIR/U-FaIR) code.\n",
    "    '''\n",
    "    \n",
    "    # move checks to function call -- call it as first function in run, \n",
    "    #     if it fails cancel the run printing the reason...\n",
    "    \n",
    "    # define function to unpack pandas input into formats required?\n",
    "    \n",
    "    # ------------------\n",
    "    \n",
    "    # check format of inputs is correct\n",
    "    emissions = check_format(emissions, multigas, multiscen, a, tau, r, PI_C, emis2conc)\n",
    "    \n",
    "    # define empty arrays to populate\n",
    "    G = np.cumsum(emissions,axis=2)\n",
    "    C = np.zeros(emissions.shape)\n",
    "####### currently calculate a total RF for all gases in each scenario together, and total temp...\n",
    "#######    disgree with the total RF step (agree with total temp step)\n",
    "    RF = np.zeros(emissions[0].shape)\n",
    "    T = np.zeros(emissions[0].shape)\n",
    "#######\n",
    "    alpha = np.zeros(emissions.shape)\n",
    "    \n",
    "    alpha[...,0] = alpha_val(G=np.zeros((emissions.shape[0],emissions.shape[1])),G_A=np.zeros((emissions.shape[0],emissions.shape[1])),T=np.zeros((emissions.shape[0],emissions.shape[1])),tau=tau,a=a,r=r,h=100.,pre_ind_C=PI_C,iirf100_max = 97.0)\n",
    "    C[...,0],R,G_A = step_conc(R=np.zeros((emissions.shape[0],emissions.shape[1],4)),alpha=alpha[...,0],E=emissions[...,0],a=a,tau=tau,pre_ind_C=PI_C,emis2conc=emis2conc)\n",
    "    RF[...,0] = step_forc(C=C[...,0],pre_ind_C=PI_C,F_ext=0.,f=f)\n",
    "    S,T[...,0] = step_temp(S=np.zeros((emissions.shape[1],2)),F=RF[...,0],q=q,d=d)\n",
    "    \n",
    "    for t in np.arange(1,emissions.shape[2]):\n",
    "        \n",
    "        alpha[...,t] = alpha_val(G=G[...,t-1],G_A=G_A,T=T[...,t-1],tau=tau,a=a,r=r,h=100.,pre_ind_C=PI_C,iirf100_max = 97.0)\n",
    "        C[...,t],R,G_A = step_conc(R = R,alpha=alpha[...,t],E=emissions[...,t],a=a,tau=tau,pre_ind_C=PI_C,emis2conc=emis2conc)\n",
    "        RF[...,t] = step_forc(C=C[...,t],pre_ind_C=PI_C,F_ext=0.,f=f)\n",
    "        S,T[...,t] = step_temp(S=S,F=RF[...,t],q=q,d=d)\n",
    "        \n",
    "#     num_gas = emissions.shape[0]\n",
    "#     num_ems = emissions.shape[1]\n",
    "#     num_tim = emissions.shape[2]\n",
    "    \n",
    "#     print(num_gas, num_ems, num_tim)\n",
    "        \n",
    "    return C,RF,T\n"
   ]
  },
  {
   "cell_type": "code",
   "execution_count": 12,
   "metadata": {
    "collapsed": true
   },
   "outputs": [],
   "source": [
    "emissions_test = np.zeros([5,2,100])\n",
    "emissions_test[0,0,:] = np.arange(0,10,0.1)\n",
    "# emissions_test[1,0,:] = np.arange(0,100,1)\n",
    "# emissions_test[2,0,:] = np.arange(0,100,1)\n",
    "# emissions_test[3,0,:] = np.arange(0,100,1)\n",
    "# emissions_test[4,0,:] = np.arange(0,100,1)\n",
    "emissions_test[0,1,:] = np.arange(0,5,0.05)\n",
    "\n",
    "emis2conc = 1/(5.148*10**18 / 1e18 * np.array([12., 16., 28., 28., 28.]) / 28.97)\n",
    "a = np.array([[0.2173,0.2240,0.2824,0.2763],[1.,0.,0.,0.],[1.,0.,0.,0.],[1.,0.,0.,0.],[1.,0.,0.,0.]])\n",
    "tau = np.array([[1000000,394.4,36.54,4.304],[9.,394.4,36.54,4.304],[121.,394.4,36.54,4.304],[121.,394.4,36.54,4.304],[121.,394.4,36.54,4.304]])\n",
    "r = np.array([[32.40,0.019,4.165,0.0],\\\n",
    "             [ 9.05942806e+00, -1.03745809e-07, -1.85711888e-01,  1.45117387e-04],\\\n",
    "             [ 4.97443512e+01,  5.87120814e-04, -2.02130466e+00,  2.07719812e-02],\\\n",
    "             [ 4.97443512e+01,  5.87120814e-04, -2.02130466e+00,  2.07719812e-02],\\\n",
    "             [ 4.97443512e+01,  5.87120814e-04, -2.02130466e+00,  2.07719812e-02]])\n",
    "PI_C = np.array([278.0,722.0,273.0,273.0,273.0])\n",
    "f = np.array([[3.74/np.log(2.),0.,0.],[0,0.,0.036],[0,0,0.12],[0,0,0.12],[0,0,0.12]])\n",
    "\n",
    "C, RF, T = multiscen_oxfair(emissions_test, emis2conc=emis2conc,a=a,tau=tau,r=r,PI_C=PI_C,f=f,multigas=True,multiscen=True)"
   ]
  },
  {
   "cell_type": "code",
   "execution_count": 9,
   "metadata": {},
   "outputs": [
    {
     "data": {
      "image/png": "[encoded data removed]",
      "text/plain": [
       "<Figure size 432x288 with 1 Axes>"
      ]
     },
     "metadata": {
      "needs_background": "light"
     },
     "output_type": "display_data"
    }
   ],
   "source": [
    "plt.plot(np.arange(0,emissions_test.shape[2]),T[0,:],color='red')\n",
    "plt.plot(np.arange(0,emissions_test.shape[2]),T[1,:],color='blue')\n",
    "plt.show()"
   ]
  },
  {
   "cell_type": "code",
   "execution_count": 10,
   "metadata": {},
   "outputs": [
    {
     "data": {
      "image/png": "[encoded data removed]",
      "text/plain": [
       "<Figure size 432x288 with 1 Axes>"
      ]
     },
     "metadata": {
      "needs_background": "light"
     },
     "output_type": "display_data"
    }
   ],
   "source": [
    "for i in range(0,emissions_test.shape[0]):\n",
    "    plt.plot(np.arange(0,emissions_test.shape[2]),C[i,0,:])\n",
    "    \n",
    "plt.plot(np.arange(0,emissions_test.shape[2]),C[0,1,:],color='blue')\n",
    "plt.show()"
   ]
  },
  {
   "cell_type": "code",
   "execution_count": 11,
   "metadata": {},
   "outputs": [
    {
     "data": {
      "image/png": "[encoded data removed]",
      "text/plain": [
       "<Figure size 432x288 with 1 Axes>"
      ]
     },
     "metadata": {
      "needs_background": "light"
     },
     "output_type": "display_data"
    }
   ],
   "source": [
    "plt.plot(np.arange(0,emissions_test.shape[2]),RF[0,:],color='red')\n",
    "plt.plot(np.arange(0,emissions_test.shape[2]),RF[1,:],color='blue')\n",
    "plt.show()"
   ]
  },
  {
   "cell_type": "markdown",
   "metadata": {},
   "source": [
    "# what else do we want in the code...\n",
    "\n",
    "1) multiparam code which works ... HOW DO WE STRUCTURE IT?\n",
    "\n",
    "2) write function to check format of stuff at start of run automatically\n",
    "\n",
    "3) add functionality to be able to run from concentrations and RFs as well as emissions"
   ]
  },
  {
   "cell_type": "code",
   "execution_count": null,
   "metadata": {
    "collapsed": true
   },
   "outputs": [],
   "source": []
  }
 ],
 "metadata": {
  "kernelspec": {
   "display_name": "Python (python37)",
   "language": "python",
   "name": "python37"
  },
  "language_info": {
   "codemirror_mode": {
    "name": "ipython",
    "version": 3
   },
   "file_extension": ".py",
   "mimetype": "text/x-python",
   "name": "python",
   "nbconvert_exporter": "python",
   "pygments_lexer": "ipython3",
   "version": "3.7.1"
  }
 },
 "nbformat": 4,
 "nbformat_minor": 2
}
